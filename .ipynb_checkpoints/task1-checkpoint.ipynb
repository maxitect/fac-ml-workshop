{
 "cells": [
  {
   "cell_type": "code",
   "execution_count": 2,
   "id": "ae64c988-5e53-4b3f-bff5-c147dbbab136",
   "metadata": {},
   "outputs": [],
   "source": [
    "name = \"Max\"\n",
    "age = 33\n",
    "height = 1.71\n",
    "learning_python = True"
   ]
  },
  {
   "cell_type": "code",
   "execution_count": 4,
   "id": "f4b6896f-b415-4e14-bea3-be25f9fa284b",
   "metadata": {},
   "outputs": [
    {
     "name": "stdout",
     "output_type": "stream",
     "text": [
      "Hi! I'm Max, I'm 33 years old, 1.71 metres tall. I'm currently learning python.\n"
     ]
    }
   ],
   "source": [
    "print(f\"Hi! I'm {name}, I'm {age} years old, {height} metres tall. I'm currently {\"\" if learning_python else \"not \"}learning python.\")"
   ]
  },
  {
   "cell_type": "code",
   "execution_count": 9,
   "id": "1b65be9e-6402-4068-b07c-7c0df4d86f3d",
   "metadata": {},
   "outputs": [],
   "source": [
    "my_list = [1, 2, 3, 4, 5]"
   ]
  },
  {
   "cell_type": "code",
   "execution_count": 8,
   "id": "2d3bfd49-3144-4e0c-aa9e-d3860b3bf39a",
   "metadata": {},
   "outputs": [
    {
     "name": "stdout",
     "output_type": "stream",
     "text": [
      "1\n",
      "4\n",
      "9\n",
      "16\n",
      "25\n"
     ]
    }
   ],
   "source": [
    "for number in my_list:\n",
    "    print(number ** 2)"
   ]
  },
  {
   "cell_type": "code",
   "execution_count": 11,
   "id": "3283072f-a8d0-4fed-8006-59da898eca8b",
   "metadata": {},
   "outputs": [],
   "source": [
    "def is_even(number):\n",
    "    return number % 2 == 0"
   ]
  },
  {
   "cell_type": "code",
   "execution_count": 13,
   "id": "4d343b44-28e8-4bcf-ac08-5a96ae824dd2",
   "metadata": {},
   "outputs": [
    {
     "name": "stdout",
     "output_type": "stream",
     "text": [
      "False\n",
      "False\n",
      "True\n"
     ]
    }
   ],
   "source": [
    "print(is_even(3))\n",
    "print(is_even(5))\n",
    "print(is_even(6))"
   ]
  },
  {
   "cell_type": "code",
   "execution_count": 16,
   "id": "54b1afd1-4fc1-4c0d-92cd-c739ef8e66a9",
   "metadata": {},
   "outputs": [],
   "source": [
    "import numpy as np\n",
    "number_list = []\n",
    "for num in range(1, 11):\n",
    "    number_list.append(num)\n",
    "arr = np.array(number_list)"
   ]
  },
  {
   "cell_type": "code",
   "execution_count": 17,
   "id": "dff3cd8e-339e-4b0a-ac75-9a08b702e3be",
   "metadata": {},
   "outputs": [
    {
     "name": "stdout",
     "output_type": "stream",
     "text": [
      "[1, 2, 3, 4, 5, 6, 7, 8, 9, 10]\n",
      "[ 1  2  3  4  5  6  7  8  9 10]\n"
     ]
    }
   ],
   "source": [
    "print(number_list)\n",
    "print(arr)"
   ]
  },
  {
   "cell_type": "code",
   "execution_count": 28,
   "id": "53ba0293-bd49-43f1-a592-3a810be5f7a6",
   "metadata": {},
   "outputs": [],
   "source": [
    "arr_mean = np.mean(arr)\n",
    "arr_std_dev = np.std(arr)\n",
    "arr_list_plus_two = arr + 2"
   ]
  },
  {
   "cell_type": "code",
   "execution_count": 29,
   "id": "a9747423-1d1d-4a4b-b117-517462292ae2",
   "metadata": {},
   "outputs": [
    {
     "name": "stdout",
     "output_type": "stream",
     "text": [
      "5.5\n",
      "2.8722813232690143\n",
      "[ 3  4  5  6  7  8  9 10 11 12]\n"
     ]
    }
   ],
   "source": [
    "print(arr_mean)\n",
    "print(arr_std_dev)\n",
    "print(arr_list_plus_two)"
   ]
  },
  {
   "cell_type": "code",
   "execution_count": null,
   "id": "a2702318-9f4b-4017-a68b-08a8acdeb9e1",
   "metadata": {},
   "outputs": [],
   "source": []
  }
 ],
 "metadata": {
  "kernelspec": {
   "display_name": "Python 3 (ipykernel)",
   "language": "python",
   "name": "python3"
  },
  "language_info": {
   "codemirror_mode": {
    "name": "ipython",
    "version": 3
   },
   "file_extension": ".py",
   "mimetype": "text/x-python",
   "name": "python",
   "nbconvert_exporter": "python",
   "pygments_lexer": "ipython3",
   "version": "3.13.3"
  }
 },
 "nbformat": 4,
 "nbformat_minor": 5
}
